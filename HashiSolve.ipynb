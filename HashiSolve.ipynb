{
 "cells": [
  {
   "cell_type": "code",
   "execution_count": 5,
   "metadata": {},
   "outputs": [],
   "source": [
    "# Github Education\n",
    "# Github Copilot\n",
    "\n",
    "import gurobipy as gp\n",
    "from gurobipy import GRB"
   ]
  },
  {
   "cell_type": "code",
   "execution_count": 6,
   "metadata": {},
   "outputs": [],
   "source": [
    "class Determinant:\n",
    "    def __init__(self, row1:list, row2:list):\n",
    "        self.row1 = row1\n",
    "        self.row2 = row2\n",
    "        return None\n",
    "    def getDeterminant(self):\n",
    "        return self.row1[0] * self.row2[1] - self.row1[1] * self.row2[0]"
   ]
  },
  {
   "cell_type": "code",
   "execution_count": 7,
   "metadata": {},
   "outputs": [],
   "source": [
    "class Point:\n",
    "    def __init__(self, x, y):\n",
    "        self.xCoordinate = x\n",
    "        self.yCoordinate = y\n",
    "        return None\n",
    "    def compareTwoPoints(self, another):\n",
    "        if self.xCoordinate > another.xCoordinate:\n",
    "            return \"greater\"\n",
    "        if self.xCoordinate < another.xCoordinate:\n",
    "            return \"less\"\n",
    "        else:\n",
    "            if self.yCoordinate > another.yCoordinate:\n",
    "                return \"greater\"\n",
    "            if self.yCoordinate < another.yCoordinate:\n",
    "                return \"less\"\n",
    "            else:\n",
    "                return \"equal\""
   ]
  },
  {
   "cell_type": "code",
   "execution_count": 8,
   "metadata": {},
   "outputs": [],
   "source": [
    "class Segment:\n",
    "    def __init__(self, point1:Point, point2:Point):\n",
    "        self.point1 = point1\n",
    "        self.point2 = point2\n",
    "        return None\n",
    "    def IsIntersect(self, another):\n",
    "        # Return True if two segments intersect inside.\n",
    "        # Return False if two segments do not intersect inside.\n",
    "        FirstEquation = [self.point2.xCoordinate - self.point1.xCoordinate, another.point1.xCoordinate - another.point2.xCoordinate, another.point1.xCoordinate - self.point1.xCoordinate]\n",
    "        SecondEquation = [self.point2.yCoordinate - self.point1.yCoordinate, another.point1.yCoordinate - another.point2.yCoordinate, another.point1.yCoordinate - self.point1.yCoordinate]\n",
    "        determinant = Determinant([FirstEquation[0], FirstEquation[1]], [SecondEquation[0], SecondEquation[1]]).getDeterminant()\n",
    "        determinantX = Determinant([FirstEquation[2], FirstEquation[1]], [SecondEquation[2], SecondEquation[1]]).getDeterminant()\n",
    "        determinantY = Determinant([FirstEquation[0], FirstEquation[2]], [SecondEquation[0], SecondEquation[2]]).getDeterminant()\n",
    "        if determinant == 0:\n",
    "            if determinantX == 0 and determinantY == 0:\n",
    "                return True\n",
    "            else:\n",
    "                return False\n",
    "        else:\n",
    "            parameter1 = determinantX / determinant\n",
    "            parameter2 = determinantY / determinant\n",
    "            if parameter1 > 0 and parameter1 < 1 and parameter2 > 0 and parameter2 < 1:\n",
    "                return True\n",
    "            else:\n",
    "                return False\n",
    "    def IsStartPoint(self, point:Point):\n",
    "        if point.compareTwoPoints(self.point1) == \"equal\" or point.compareTwoPoints(self.point2) == \"equal\":\n",
    "            return True\n",
    "        else:\n",
    "            return False"
   ]
  },
  {
   "cell_type": "code",
   "execution_count": 9,
   "metadata": {},
   "outputs": [
    {
     "name": "stdout",
     "output_type": "stream",
     "text": [
      "{<__main__.Segment object at 0x0000022279BEB350>: 1}\n"
     ]
    }
   ],
   "source": [
    "# Testing whether class Point and class Segment are hashable. \n",
    "x = {}\n",
    "Point1 = Point(0, 0)\n",
    "Point2 = Point(1, 1)\n",
    "Point3 = Point(2, 2)\n",
    "Point4 = Point(3, 3)\n",
    "Segment1 = Segment(Point1, Point2)\n",
    "x[Segment1] = 1\n",
    "print(x)"
   ]
  },
  {
   "cell_type": "code",
   "execution_count": 10,
   "metadata": {},
   "outputs": [],
   "source": [
    "class HashiPuzzle:\n",
    "    def __init__(self, listPoints:list, goalOrderList:list):\n",
    "        self.listPoints = listPoints\n",
    "        self.goalOrderList = goalOrderList\n",
    "        self.model = gp.Model(\"HashiProblem\")\n",
    "    def getAdjacentPoints(self, index):\n",
    "        # Return a list of adjacent points of point.\n",
    "        point = self.listPoints[index]\n",
    "        sameRowPointstoLeftList = [x for x in self.listPoints if x.xCoordinate == point.xCoordinate and x.yCoordinate < point.yCoordinate]\n",
    "        sameRowPointstoRightList = [x for x in self.listPoints if x.xCoordinate == point.xCoordinate and x.yCoordinate > point.yCoordinate]\n",
    "        sameColumnPointstoUpList = [x for x in self.listPoints if x.yCoordinate == point.yCoordinate and x.xCoordinate < point.xCoordinate]\n",
    "        sameColumnPointstoDownList = [x for x in self.listPoints if x.yCoordinate == point.yCoordinate and x.xCoordinate > point.xCoordinate]\n",
    "        adjacentPointstoLeftList = []\n",
    "        adjacentPointstoRightList = []\n",
    "        adjacentPointstoUpList = []\n",
    "        adjacentPointstoDownList = []\n",
    "        if len(sameRowPointstoLeftList) != 0:\n",
    "            adjacentPointstoLeftList.append(max(sameRowPointstoLeftList, key = lambda x: x.yCoordinate))\n",
    "        if len(sameRowPointstoRightList) != 0:\n",
    "            adjacentPointstoRightList.append(min(sameRowPointstoRightList, key = lambda x: x.yCoordinate))\n",
    "        if len(sameColumnPointstoUpList) != 0:\n",
    "            adjacentPointstoUpList.append(max(sameColumnPointstoUpList, key = lambda x: x.xCoordinate))\n",
    "        if len(sameColumnPointstoDownList) != 0:\n",
    "            adjacentPointstoDownList.append(min(sameColumnPointstoDownList, key = lambda x: x.xCoordinate))\n",
    "        adjacentPointsList = adjacentPointstoLeftList + adjacentPointstoRightList + adjacentPointstoUpList + adjacentPointstoDownList\n",
    "        adjacentPointsIndexList = [self.listPoints.index(x) for x in adjacentPointsList]\n",
    "        return adjacentPointsIndexList\n",
    "    def getPotentialEdges(self):\n",
    "        # Return a list of potential edges.\n",
    "        potentialEdges = []\n",
    "        for i in range(len(self.listPoints)):\n",
    "            for j in self.getAdjacentPoints(i):\n",
    "                if self.listPoints[i].compareTwoPoints(self.listPoints[j]) == \"less\":\n",
    "                    potentialEdges.append(Segment(self.listPoints[i], self.listPoints[j]))\n",
    "        return potentialEdges\n",
    "    def getAllPotentialIntersectionPairs(self):\n",
    "        # Return a list of all pairs of potential edges that intersect inside.\n",
    "        potentialEdges = self.getPotentialEdges()\n",
    "        for i in range(len(potentialEdges)):\n",
    "            for j in range(i + 1, len(potentialEdges)):\n",
    "                if potentialEdges[i].IsIntersect(potentialEdges[j]):\n",
    "                    potentialEdges.append((potentialEdges[i], potentialEdges[j]))\n",
    "    def setIsDirectlyConnectedVariables(self):\n",
    "        self.x = {edge: self.model.addVar(vtype=GRB.BINARY, name = f'x_{self.listPoints.index(edge.point1)}_{self.listPoints.index(edge.point2)}')\n",
    "                for edge in self.getPotentialEdges()}\n",
    "    def setNumberOfBridgesVariables(self):\n",
    "        self.y = {edge: self.model.addVar(vtype=GRB.INTEGER, name = f'y_{self.listPoints.index(edge.point1)}_{self.listPoints.index(edge.point2)}', ub = 2, lb = 0)\n",
    "                for edge in self.getPotentialEdges()}\n",
    "        self.relationBetweenXandY = [[self.model.addConstr(self.y[edge] <= 2 * self.x[edge]), self.model.addConstr(self.y[edge] >= self.x[edge])] for edge in self.x]\n",
    "    def setDegreeConstraint(self):\n",
    "        self.degreeConstraint = [self.model.addConstr(sum([self.y[edge] for edge in self.getAllPotentialIntersectionPairs()\n",
    "                                                           if edge.IsStartPoint(point) == True]) == self.goalOrderList[self.listPoints.index(point)])\n",
    "                                 for point in self.listPoints]\n",
    "    def setNoIntersectionConstraint(self):\n",
    "        # Set the constraint that no two bridges intersect inside.\n",
    "        self.noIntersectionConstraint = [self.model.addConstraint(sum([self.x[pair[0]], self.x[pair[1]]]) <= 1)\n",
    "                                         for pair in self.getAllPotentialIntersectionPairs()]\n",
    "    def CheckTheConnectivity(self):\n",
    "        # A graph is connected if and only if for every i, there exists a path from vertex 0 to vertex i.\n",
    "        dictPairs = [(self.listPoints[0], self.listPoints[i]) for i in range(1, len(self.listPoints))]\n",
    "        self.IsConnect = {pair: self.model.addVar(vtype=GRB.BINARY, name = f'IsConnect_{self.listPoints.index(pair[0])}_{self.listPoints.index(pair[1])}') for pair in dictPairs}\n",
    "        \n",
    "    def solve(self):\n",
    "        self.setIsDirectlyConnectedVariables()\n",
    "        self.setNumberOfBridgesVariables()\n",
    "        self.setDegreeConstraint()\n",
    "        self.setNoIntersectionConstraint()\n",
    "        self.CheckTheConnectivity()\n",
    "        self.model.optimize()\n",
    "        return None"
   ]
  },
  {
   "cell_type": "code",
   "execution_count": null,
   "metadata": {},
   "outputs": [],
   "source": []
  }
 ],
 "metadata": {
  "kernelspec": {
   "display_name": "Python 3",
   "language": "python",
   "name": "python3"
  },
  "language_info": {
   "codemirror_mode": {
    "name": "ipython",
    "version": 3
   },
   "file_extension": ".py",
   "mimetype": "text/x-python",
   "name": "python",
   "nbconvert_exporter": "python",
   "pygments_lexer": "ipython3",
   "version": "3.11.2"
  },
  "orig_nbformat": 4
 },
 "nbformat": 4,
 "nbformat_minor": 2
}
