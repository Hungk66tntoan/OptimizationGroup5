{
 "cells": [
  {
   "cell_type": "code",
   "execution_count": 8,
   "metadata": {},
   "outputs": [],
   "source": [
    "# Github Education\n",
    "# Github Copilot\n",
    "\n",
    "import gurobipy as gp\n",
    "from gurobipy import GRB"
   ]
  },
  {
   "cell_type": "code",
   "execution_count": 9,
   "metadata": {},
   "outputs": [],
   "source": [
    "class Determinant:\n",
    "    def __init__(self, row1:list, row2:list):\n",
    "        self.row1 = row1\n",
    "        self.row2 = row2\n",
    "        return None\n",
    "    def getDeterminant(self):\n",
    "        return self.row1[0] * self.row2[1] - self.row1[1] * self.row2[0]"
   ]
  },
  {
   "cell_type": "code",
   "execution_count": 10,
   "metadata": {},
   "outputs": [],
   "source": [
    "class Point:\n",
    "    def __init__(self, x, y):\n",
    "        self.xCoordinate = x\n",
    "        self.yCoordinate = y\n",
    "        return None\n",
    "    def compareTwoPoints(self, another):\n",
    "        if self.xCoordinate > another.xCoordinate:\n",
    "            return \"greater\"\n",
    "        if self.xCoordinate < another.xCoordinate:\n",
    "            return \"less\"\n",
    "        else:\n",
    "            if self.yCoordinate > another.yCoordinate:\n",
    "                return \"greater\"\n",
    "            if self.yCoordinate < another.yCoordinate:\n",
    "                return \"less\"\n",
    "            else:\n",
    "                return \"equal\""
   ]
  },
  {
   "cell_type": "code",
   "execution_count": 11,
   "metadata": {},
   "outputs": [],
   "source": [
    "class Segment:\n",
    "    def __init__(self, point1:Point, point2:Point):\n",
    "        self.point1 = point1\n",
    "        self.point2 = point2\n",
    "        return None\n",
    "    def IsIntersect(self, another):\n",
    "        # Return True if two segments intersect inside.\n",
    "        # Return False if two segments do not intersect inside.\n",
    "        FirstEquation = [self.point2.xCoordinate - self.point1.xCoordinate, another.point1.xCoordinate - another.point2.xCoordinate, another.point1.xCoordinate - self.point1.xCoordinate]\n",
    "        SecondEquation = [self.point2.yCoordinate - self.point1.yCoordinate, another.point1.yCoordinate - another.point2.yCoordinate, another.point1.yCoordinate - self.point1.yCoordinate]\n",
    "        determinant = Determinant([FirstEquation[0], FirstEquation[1]], [SecondEquation[0], SecondEquation[1]]).getDeterminant()\n",
    "        determinantX = Determinant([FirstEquation[2], FirstEquation[1]], [SecondEquation[2], SecondEquation[1]]).getDeterminant()\n",
    "        determinantY = Determinant([FirstEquation[0], FirstEquation[2]], [SecondEquation[0], SecondEquation[2]]).getDeterminant()\n",
    "        if determinant == 0:\n",
    "            if determinantX == 0 and determinantY == 0:\n",
    "                return True\n",
    "            else:\n",
    "                return False\n",
    "        else:\n",
    "            parameter1 = determinantX / determinant\n",
    "            parameter2 = determinantY / determinant\n",
    "            if parameter1 > 0 and parameter1 < 1 and parameter2 > 0 and parameter2 < 1:\n",
    "                return True\n",
    "            else:\n",
    "                return False\n"
   ]
  },
  {
   "cell_type": "code",
   "execution_count": 15,
   "metadata": {},
   "outputs": [
    {
     "name": "stdout",
     "output_type": "stream",
     "text": [
      "{<__main__.Segment object at 0x00000255A5781B10>: 1}\n"
     ]
    }
   ],
   "source": [
    "x = {}\n",
    "Point1 = Point(0, 0)\n",
    "Point2 = Point(1, 1)\n",
    "Point3 = Point(2, 2)\n",
    "Point4 = Point(3, 3)\n",
    "Segment1 = Segment(Point1, Point2)\n",
    "x[Segment1] = 1\n",
    "print(x)"
   ]
  },
  {
   "cell_type": "code",
   "execution_count": 13,
   "metadata": {},
   "outputs": [],
   "source": [
    "class HashiPuzzle:\n",
    "    def __init__(self, listPoints:list, goalOrderList:list):\n",
    "        self.listPoints = listPoints\n",
    "        self.goalOrderList = goalOrderList\n",
    "        self.model = gp.Model(\"HashiProblem\")\n",
    "    def getAdjacentPoints(self, index):\n",
    "        # Return a list of adjacent points of point.\n",
    "        point = self.listPoints[index]\n",
    "        sameRowPointstoLeftList = [x for x in self.listPoints if x.xCoordinate == point.xCoordinate and x.yCoordinate < point.yCoordinate]\n",
    "        sameRowPointstoRightList = [x for x in self.listPoints if x.xCoordinate == point.xCoordinate and x.yCoordinate > point.yCoordinate]\n",
    "        sameColumnPointstoUpList = [x for x in self.listPoints if x.yCoordinate == point.yCoordinate and x.xCoordinate < point.xCoordinate]\n",
    "        sameColumnPointstoDownList = [x for x in self.listPoints if x.yCoordinate == point.yCoordinate and x.xCoordinate > point.xCoordinate]\n",
    "        adjacentPointstoLeftList = []\n",
    "        adjacentPointstoRightList = []\n",
    "        adjacentPointstoUpList = []\n",
    "        adjacentPointstoDownList = []\n",
    "        if len(sameRowPointstoLeftList) != 0:\n",
    "            adjacentPointstoLeftList.append(max(sameRowPointstoLeftList, key = lambda x: x.yCoordinate))\n",
    "        if len(sameRowPointstoRightList) != 0:\n",
    "            adjacentPointstoRightList.append(min(sameRowPointstoRightList, key = lambda x: x.yCoordinate))\n",
    "        if len(sameColumnPointstoUpList) != 0:\n",
    "            adjacentPointstoUpList.append(max(sameColumnPointstoUpList, key = lambda x: x.xCoordinate))\n",
    "        if len(sameColumnPointstoDownList) != 0:\n",
    "            adjacentPointstoDownList.append(min(sameColumnPointstoDownList, key = lambda x: x.xCoordinate))\n",
    "        adjacentPointsList = adjacentPointstoLeftList + adjacentPointstoRightList + adjacentPointstoUpList + adjacentPointstoDownList\n",
    "        adjacentPointsIndexList = [self.listPoints.index(x) for x in adjacentPointsList]\n",
    "        return adjacentPointsIndexList\n",
    "    def getPotentialEdges(self):\n",
    "        # Return a list of potential edges.\n",
    "        potentialEdges = []\n",
    "        pass\n",
    "    def setBridgeVariables(self):\n",
    "        self.bridgeVars = [[self.model.addVar(vtype=GRB.INTEGER, name = f'bridge_{i}_{j}', ub = 2, lb = 0) for j in range(len(self.listPoints))] for i in range(len(self.listPoints))]\n",
    "        self.bridgeVarsReflexiveConstraint = [[self.model.addConstr(self.bridgeVars[i][j] == self.bridgeVars[j][i]) for j in range(len(self.listPoints))] for i in range(len(self.listPoints))]\n",
    "    def setBridgeCheckingVariable(self):\n",
    "        self.bridgeCheckingVars = [[self.model.addVar(vtype=GRB.BINARY, name = f'bridgeChecking_{i}_{j}') for j in range(len(self.listPoints))] for i in range(len(self.listPoints))]\n",
    "        self.bridgeCheckingVarsUpperConstraint = [[self.model.addConstr(self.bridgeVars[i][j] - self.bridgeCheckingVars[i][j] >= 0) for j in range(len(self.listPoints))] for i in range(len(self.listPoints))]\n",
    "        self.bridgeCheckingVarsLowerConstraint = [[self.model.addConstr(2 * self.bridgeCheckingVars[i][j] - self.bridgeVars[i][j] >= 0) for j in range(len(self.listPoints))] for i in range(len(self.listPoints))]\n",
    "    def setTotalBridgeConstraint(self):\n",
    "        self.totalBridgeConstraint = [self.model.addConstr(sum([self.bridgeVars[i][j] for j in range(len(self.listPoints))]) == self.goalOrderList[i]) for i in range(len(self.listPoints))]\n",
    "    def setNoIntersectionConstraint(self):\n",
    "        # Set the constraint that no two bridges intersect inside.\n",
    "        \n",
    "        pass\n",
    "    def CheckTheConnectivity(self):\n",
    "        # Return True if the puzzle is connected.\n",
    "        # Return False if the puzzle is not connected.\n",
    "        pass\n",
    "    def solve(self):\n",
    "        self.setBridgeVariables()\n",
    "        self.setBridgeCheckingVariable()\n",
    "        self.setTotalBridgeConstraint()\n",
    "        self.setNoIntersectionConstraint()\n",
    "        self.CheckTheConnectivity()\n",
    "        self.model.optimize()\n",
    "        return None"
   ]
  }
 ],
 "metadata": {
  "kernelspec": {
   "display_name": "Python 3",
   "language": "python",
   "name": "python3"
  },
  "language_info": {
   "codemirror_mode": {
    "name": "ipython",
    "version": 3
   },
   "file_extension": ".py",
   "mimetype": "text/x-python",
   "name": "python",
   "nbconvert_exporter": "python",
   "pygments_lexer": "ipython3",
   "version": "3.11.2"
  },
  "orig_nbformat": 4
 },
 "nbformat": 4,
 "nbformat_minor": 2
}
