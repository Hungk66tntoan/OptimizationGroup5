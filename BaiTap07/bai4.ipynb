{
 "cells": [
  {
   "cell_type": "code",
   "execution_count": 11,
   "metadata": {},
   "outputs": [],
   "source": [
    "import gurobipy as gp\n",
    "from gurobipy import GRB\n",
    "import numpy as np"
   ]
  },
  {
   "cell_type": "code",
   "execution_count": 12,
   "metadata": {},
   "outputs": [],
   "source": [
    "class LinearRegression:\n",
    "    def __init__(self, data):\n",
    "        self.data = data\n",
    "        self.n = len(data)\n",
    "        self.model = gp.Model('Linear Regression')\n",
    "        #loại liên tục\n",
    "        self.a = self.model.addVar(\n",
    "                                  vtype=GRB.CONTINUOUS,\n",
    "                                   name='a')\n",
    "        self.b = self.model.addVar(\n",
    "                                    vtype=GRB.CONTINUOUS,\n",
    "                                    name='b')\n",
    "    def setObjective(self):\n",
    "        self.model.setObjective(\n",
    "                                gp.quicksum(\n",
    "                                    (self.data[i][1]-self.a*self.data[i][0]-self.b)**2 \n",
    "                                    for i in range(self.n)),\n",
    "                                GRB.MINIMIZE)\n",
    "    def solve(self):\n",
    "        self.setObjective()\n",
    "        self.model.optimize()\n",
    "        "
   ]
  },
  {
   "cell_type": "code",
   "execution_count": 13,
   "metadata": {},
   "outputs": [
    {
     "name": "stdout",
     "output_type": "stream",
     "text": [
      "[[ 0.         -0.15802196]\n",
      " [ 1.          1.68891617]\n",
      " [ 2.          2.73140145]\n",
      " [ 3.          5.99388846]\n",
      " [ 4.          8.36623527]\n",
      " [ 5.         10.98276514]\n",
      " [ 6.         11.82153638]\n",
      " [ 7.         13.54053282]\n",
      " [ 8.         15.46831498]\n",
      " [ 9.         19.72655994]]\n"
     ]
    }
   ],
   "source": [
    "#tạo dữ liệu độ dài 10, random quanh đường thẳng y = 2x \n",
    "data = [ [i, 2*i + np.random.normal(0, 1)] for i in range(10)]\n",
    "data = np.array(data)\n",
    "print(data)"
   ]
  },
  {
   "cell_type": "code",
   "execution_count": 14,
   "metadata": {},
   "outputs": [
    {
     "name": "stdout",
     "output_type": "stream",
     "text": [
      "Gurobi Optimizer version 10.0.1 build v10.0.1rc0 (win64)\n",
      "\n",
      "CPU model: Intel(R) Core(TM) i7-5600U CPU @ 2.60GHz, instruction set [SSE2|AVX|AVX2]\n",
      "Thread count: 2 physical cores, 4 logical processors, using up to 4 threads\n",
      "\n",
      "Optimize a model with 0 rows, 2 columns and 0 nonzeros\n",
      "Model fingerprint: 0x02f3d27f\n",
      "Model has 3 quadratic objective terms\n",
      "Coefficient statistics:\n",
      "  Matrix range     [0e+00, 0e+00]\n",
      "  Objective range  [2e+02, 1e+03]\n",
      "  QObjective range [2e+01, 6e+02]\n",
      "  Bounds range     [0e+00, 0e+00]\n",
      "  RHS range        [0e+00, 0e+00]\n",
      "Presolve time: 0.01s\n",
      "Presolved: 0 rows, 2 columns, 0 nonzeros\n",
      "Presolved model has 3 quadratic objective terms\n",
      "Ordering time: 0.00s\n",
      "\n",
      "Barrier statistics:\n",
      " Free vars  : 1\n",
      " AA' NZ     : 0.000e+00\n",
      " Factor NZ  : 1.000e+00\n",
      " Factor Ops : 1.000e+00 (less than 1 second per iteration)\n",
      " Threads    : 1\n",
      "\n",
      "                  Objective                Residual\n",
      "Iter       Primal          Dual         Primal    Dual     Compl     Time\n",
      "   0  -1.02399295e+06 -1.79732672e+05  1.04e+03 3.63e+01  1.00e+06     0s\n",
      "   1   3.56136241e+04 -5.96397246e+04  1.93e+01 6.74e-01  7.21e+04     0s\n",
      "   2   1.99107349e+04 -2.93476153e+04  1.93e-05 6.74e-07  2.46e+04     0s\n",
      "   3   2.05380663e+03 -4.99291332e+03  1.93e-11 6.96e-13  3.52e+03     0s\n",
      "   4   1.40310936e+02 -7.35629157e+02  0.00e+00 0.00e+00  4.38e+02     0s\n",
      "   5   2.56164877e+01 -1.86688799e+01  4.44e-16 7.11e-15  2.21e+01     0s\n",
      "   6   9.44473618e+00  4.42151333e+00  4.44e-16 9.50e-14  2.51e+00     0s\n",
      "   7   6.48399617e+00  5.84227126e+00  0.00e+00 4.77e-14  3.21e-01     0s\n",
      "   8   5.98073118e+00  5.94876947e+00  8.88e-16 4.93e-14  1.60e-02     0s\n",
      "   9   5.95013932e+00  5.95010793e+00  0.00e+00 7.26e-14  1.57e-05     0s\n",
      "  10   5.95010902e+00  5.95010899e+00  4.44e-16 8.02e-14  1.57e-08     0s\n",
      "  11   5.95010899e+00  5.95010899e+00  0.00e+00 7.11e-15  1.57e-11     0s\n",
      "\n",
      "Barrier solved model in 11 iterations and 0.05 seconds (0.00 work units)\n",
      "Optimal objective 5.95010899e+00\n",
      "\n",
      "a =  2.0368795036520133\n",
      "b =  1.0145527679895025e-11\n"
     ]
    }
   ],
   "source": [
    "linearRegression = LinearRegression(data)\n",
    "linearRegression.solve()\n",
    "print('a = ', linearRegression.a.x)\n",
    "print('b = ', linearRegression.b.x)"
   ]
  },
  {
   "cell_type": "code",
   "execution_count": 16,
   "metadata": {},
   "outputs": [
    {
     "data": {
      "image/png": "[encoded data removed]",
      "text/plain": [
       "<Figure size 640x480 with 1 Axes>"
      ]
     },
     "metadata": {},
     "output_type": "display_data"
    }
   ],
   "source": [
    "#plot dữ liệu\n",
    "import matplotlib.pyplot as plt\n",
    "plt.scatter(data[:, 0], data[:, 1])\n",
    "#x từ min(data[:, 0]) đến max(data[:, 0])\n",
    "x = np.linspace(min(data[:, 0]), max(data[:, 0]), 100)\n",
    "y = linearRegression.a.x*x + linearRegression.b.x\n",
    "plt.plot(x, y, 'r')\n",
    "plt.show()\n"
   ]
  }
 ],
 "metadata": {
  "kernelspec": {
   "display_name": "Python 3",
   "language": "python",
   "name": "python3"
  },
  "language_info": {
   "codemirror_mode": {
    "name": "ipython",
    "version": 3
   },
   "file_extension": ".py",
   "mimetype": "text/x-python",
   "name": "python",
   "nbconvert_exporter": "python",
   "pygments_lexer": "ipython3",
   "version": "3.11.3"
  },
  "orig_nbformat": 4
 },
 "nbformat": 4,
 "nbformat_minor": 2
}
