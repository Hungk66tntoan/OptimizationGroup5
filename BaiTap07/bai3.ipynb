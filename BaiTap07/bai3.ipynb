{
 "cells": [
  {
   "cell_type": "code",
   "execution_count": 1,
   "metadata": {},
   "outputs": [],
   "source": [
    "import numpy as np\n",
    "import sympy as sp\n",
    "\n",
    "\n",
    "def beale_function(x, y):\n",
    "    #f(x_1,x_2) = (1.5 - x_1 + x_1 x_2)^2 + (2.25 - x_1 + x_1 x_2^2)^2 + (2.625 - x_1 + x_1 x_2^3)^2\n",
    "    return (1.5 - x + x*y)**2 + (2.25 - x + x*y**2)**2 + (2.625 - x + x*y**3)**2"
   ]
  },
  {
   "cell_type": "code",
   "execution_count": 5,
   "metadata": {},
   "outputs": [],
   "source": [
    "class NiceFunction:\n",
    "    def __init__(self, f):\n",
    "        self.f = f\n",
    "        self.x = sp.Symbol('x')\n",
    "        self.y = sp.Symbol('y')\n",
    "        self.f_x = sp.diff(f(self.x,self.y), self.x)\n",
    "        self.f_y = sp.diff(f(self.x,self.y), self.y)\n",
    "        self.gradient_f = np.array([self.f_x, self.f_y])\n",
    "        self.f_xx = sp.diff(self.f_x, self.x)\n",
    "        self.f_yy = sp.diff(self.f_y, self.y)\n",
    "        self.f_xy = sp.diff(self.f_x, self.y)\n",
    "        self.f_yx = sp.diff(self.f_y, self.x)\n",
    "        self.hessian_f = np.array([[self.f_xx, self.f_xy], [self.f_yx, self.f_yy]])\n",
    "        "
   ]
  },
  {
   "cell_type": "code",
   "execution_count": 6,
   "metadata": {},
   "outputs": [
    {
     "name": "stdout",
     "output_type": "stream",
     "text": [
      "<function beale_function at 0x00000224BC64C0E0>\n",
      "[2.25*(1.33333333333333*y - 1.33333333333333)*(0.666666666666667*x*y - 0.666666666666667*x + 1) + 5.0625*(0.888888888888889*y**2 - 0.888888888888889)*(0.444444444444444*x*y**2 - 0.444444444444444*x + 1) + 6.890625*(0.761904761904762*y**3 - 0.761904761904762)*(0.380952380952381*x*y**3 - 0.380952380952381*x + 1)\n",
      " 15.75*x*y**2*(0.380952380952381*x*y**3 - 0.380952380952381*x + 1) + 9.0*x*y*(0.444444444444444*x*y**2 - 0.444444444444444*x + 1) + 3.0*x*(0.666666666666667*x*y - 0.666666666666667*x + 1)]\n",
      "[[2.25*(0.666666666666667*y - 0.666666666666667)*(1.33333333333333*y - 1.33333333333333) + 5.0625*(0.444444444444444*y**2 - 0.444444444444444)*(0.888888888888889*y**2 - 0.888888888888889) + 6.890625*(0.380952380952381*y**3 - 0.380952380952381)*(0.761904761904762*y**3 - 0.761904761904762)\n",
      "  7.875*x*y**2*(0.761904761904762*y**3 - 0.761904761904762) + 4.5*x*y*(0.888888888888889*y**2 - 0.888888888888889) + 2.0*x*y + 1.5*x*(1.33333333333333*y - 1.33333333333333) - 2.0*x + 15.75*y**2*(0.380952380952381*x*y**3 - 0.380952380952381*x + 1) + 9.0*y*(0.444444444444444*x*y**2 - 0.444444444444444*x + 1) + 3.0]\n",
      " [15.75*x*y**2*(0.380952380952381*y**3 - 0.380952380952381) + 9.0*x*y*(0.444444444444444*y**2 - 0.444444444444444) + 2.0*x*y + 3.0*x*(0.666666666666667*y - 0.666666666666667) - 2.0*x + 15.75*y**2*(0.380952380952381*x*y**3 - 0.380952380952381*x + 1) + 9.0*y*(0.444444444444444*x*y**2 - 0.444444444444444*x + 1) + 3.0\n",
      "  18.0*x**2*y**4 + 8.0*x**2*y**2 + 2.0*x**2 + 31.5*x*y*(0.380952380952381*x*y**3 - 0.380952380952381*x + 1) + 9.0*x*(0.444444444444444*x*y**2 - 0.444444444444444*x + 1)]]\n"
     ]
    }
   ],
   "source": [
    "niceFunction = NiceFunction(beale_function)\n",
    "print(niceFunction.f)\n",
    "print(niceFunction.gradient_f)\n",
    "print(niceFunction.hessian_f)\n"
   ]
  },
  {
   "cell_type": "code",
   "execution_count": 7,
   "metadata": {},
   "outputs": [
    {
     "name": "stdout",
     "output_type": "stream",
     "text": [
      "<function trial_function at 0x00000224C5F59E40>\n",
      "[3*x**2 + y x + 3*y**2]\n",
      "[[6*x 1]\n",
      " [1 6*y]]\n"
     ]
    }
   ],
   "source": [
    "def trial_function(x,y):\n",
    "    return x**3 + y**3 + x*y\n",
    "nice_trial_function = NiceFunction(trial_function)\n",
    "print(nice_trial_function.f)\n",
    "print(nice_trial_function.gradient_f)\n",
    "print(nice_trial_function.hessian_f)\n"
   ]
  },
  {
   "cell_type": "code",
   "execution_count": 3,
   "metadata": {},
   "outputs": [
    {
     "ename": "NameError",
     "evalue": "name 'x' is not defined",
     "output_type": "error",
     "traceback": [
      "\u001b[1;31m---------------------------------------------------------------------------\u001b[0m",
      "\u001b[1;31mNameError\u001b[0m                                 Traceback (most recent call last)",
      "Cell \u001b[1;32mIn[3], line 2\u001b[0m\n\u001b[0;32m      1\u001b[0m y \u001b[39m=\u001b[39m sp\u001b[39m.\u001b[39mSymbol(\u001b[39m'\u001b[39m\u001b[39my\u001b[39m\u001b[39m'\u001b[39m)\n\u001b[1;32m----> 2\u001b[0m d_beale \u001b[39m=\u001b[39m sp\u001b[39m.\u001b[39mdiff(beale_function(x, y), x)\n\u001b[0;32m      3\u001b[0m \u001b[39mprint\u001b[39m(d_beale)\n\u001b[0;32m      4\u001b[0m \u001b[39m#tính đạo hàm bậc 2\u001b[39;00m\n",
      "\u001b[1;31mNameError\u001b[0m: name 'x' is not defined"
     ]
    }
   ],
   "source": [
    "y = sp.Symbol('y')\n",
    "d_beale = sp.diff(beale_function(x, y), x)\n",
    "print(d_beale)\n",
    "#tính đạo hàm bậc 2\n",
    "d2_beale = sp.diff(gradient_beale(x,y), x, x)\n",
    "print(d2_beale)"
   ]
  },
  {
   "cell_type": "code",
   "execution_count": null,
   "metadata": {},
   "outputs": [
    {
     "name": "stdout",
     "output_type": "stream",
     "text": [
      "4*x\n"
     ]
    }
   ],
   "source": [
    "x = sp.Symbol('x')\n",
    "def g(x,y):\n",
    "    return 2*x**2+3*y\n",
    "d_g = sp.diff(g(x,y), x)\n",
    "print(d_g)"
   ]
  }
 ],
 "metadata": {
  "kernelspec": {
   "display_name": "Python 3",
   "language": "python",
   "name": "python3"
  },
  "language_info": {
   "codemirror_mode": {
    "name": "ipython",
    "version": 3
   },
   "file_extension": ".py",
   "mimetype": "text/x-python",
   "name": "python",
   "nbconvert_exporter": "python",
   "pygments_lexer": "ipython3",
   "version": "3.11.3"
  },
  "orig_nbformat": 4
 },
 "nbformat": 4,
 "nbformat_minor": 2
}
