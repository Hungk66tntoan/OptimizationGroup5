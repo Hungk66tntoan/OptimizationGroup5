{
 "cells": [
  {
   "cell_type": "code",
   "execution_count": 17,
   "metadata": {},
   "outputs": [],
   "source": [
    "import numpy as np\n",
    "import sympy as sp\n",
    "\n",
    "\n",
    "def beale_function(x, y):\n",
    "    #f(x_1,x_2) = (1.5 - x_1 + x_1 x_2)^2 + (2.25 - x_1 + x_1 x_2^2)^2 + (2.625 - x_1 + x_1 x_2^3)^2\n",
    "    return (1.5 - x + x*y)**2 + (2.25 - x + x*y**2)**2 + (2.625 - x + x*y**3)**2"
   ]
  },
  {
   "cell_type": "code",
   "execution_count": 18,
   "metadata": {},
   "outputs": [],
   "source": [
    "class NiceFunction:\n",
    "    def __init__(self, f):\n",
    "        self.f = f\n",
    "        self.x = sp.Symbol('x')\n",
    "        self.y = sp.Symbol('y')\n",
    "        self.f_x = sp.diff(f(self.x,self.y), self.x)\n",
    "        self.f_y = sp.diff(f(self.x,self.y), self.y)\n",
    "        self.gradient_f_sym = np.array([self.f_x, self.f_y])\n",
    "        self.f_xx = sp.diff(self.f_x, self.x)\n",
    "        self.f_yy = sp.diff(self.f_y, self.y)\n",
    "        self.f_xy = sp.diff(self.f_x, self.y)\n",
    "        self.f_yx = sp.diff(self.f_y, self.x)\n",
    "        self.hessian_f_sym = np.array([[self.f_xx, self.f_xy], [self.f_yx, self.f_yy]])\n",
    "    def gradient_f(self, val_x, val_y):\n",
    "        #thay số vào đạo hàm\n",
    "        ans = np.array([0,0])\n",
    "        for i in range(2):\n",
    "                ans[i] += self.gradient_f_sym[i].subs([(self.x, val_x), (self.y, val_y)])\n",
    "        return ans\n",
    "\n",
    "    def hessian_f(self, val_x, val_y):\n",
    "        ans = np.array([[0,0],[0,0]])\n",
    "        for i in range(2):\n",
    "            for j in range(2):\n",
    "                ans[i][j] = self.hessian_f_sym[i][j].subs([(self.x, val_x), (self.y, val_y)])\n",
    "                 \n",
    "        "
   ]
  },
  {
   "cell_type": "code",
   "execution_count": 19,
   "metadata": {},
   "outputs": [
    {
     "name": "stdout",
     "output_type": "stream",
     "text": [
      "<function beale_function at 0x000001519D5FC220>\n",
      "[2.25*(1.33333333333333*y - 1.33333333333333)*(0.666666666666667*x*y - 0.666666666666667*x + 1) + 5.0625*(0.888888888888889*y**2 - 0.888888888888889)*(0.444444444444444*x*y**2 - 0.444444444444444*x + 1) + 6.890625*(0.761904761904762*y**3 - 0.761904761904762)*(0.380952380952381*x*y**3 - 0.380952380952381*x + 1)\n",
      " 15.75*x*y**2*(0.380952380952381*x*y**3 - 0.380952380952381*x + 1) + 9.0*x*y*(0.444444444444444*x*y**2 - 0.444444444444444*x + 1) + 3.0*x*(0.666666666666667*x*y - 0.666666666666667*x + 1)]\n",
      "[[2.25*(0.666666666666667*y - 0.666666666666667)*(1.33333333333333*y - 1.33333333333333) + 5.0625*(0.444444444444444*y**2 - 0.444444444444444)*(0.888888888888889*y**2 - 0.888888888888889) + 6.890625*(0.380952380952381*y**3 - 0.380952380952381)*(0.761904761904762*y**3 - 0.761904761904762)\n",
      "  7.875*x*y**2*(0.761904761904762*y**3 - 0.761904761904762) + 4.5*x*y*(0.888888888888889*y**2 - 0.888888888888889) + 2.0*x*y + 1.5*x*(1.33333333333333*y - 1.33333333333333) - 2.0*x + 15.75*y**2*(0.380952380952381*x*y**3 - 0.380952380952381*x + 1) + 9.0*y*(0.444444444444444*x*y**2 - 0.444444444444444*x + 1) + 3.0]\n",
      " [15.75*x*y**2*(0.380952380952381*y**3 - 0.380952380952381) + 9.0*x*y*(0.444444444444444*y**2 - 0.444444444444444) + 2.0*x*y + 3.0*x*(0.666666666666667*y - 0.666666666666667) - 2.0*x + 15.75*y**2*(0.380952380952381*x*y**3 - 0.380952380952381*x + 1) + 9.0*y*(0.444444444444444*x*y**2 - 0.444444444444444*x + 1) + 3.0\n",
      "  18.0*x**2*y**4 + 8.0*x**2*y**2 + 2.0*x**2 + 31.5*x*y*(0.380952380952381*x*y**3 - 0.380952380952381*x + 1) + 9.0*x*(0.444444444444444*x*y**2 - 0.444444444444444*x + 1)]]\n"
     ]
    }
   ],
   "source": [
    "niceFunction = NiceFunction(beale_function)\n",
    "print(niceFunction.f)\n",
    "print(niceFunction.gradient_f_sym)\n",
    "print(niceFunction.hessian_f_sym)\n"
   ]
  },
  {
   "cell_type": "code",
   "execution_count": 20,
   "metadata": {},
   "outputs": [
    {
     "name": "stdout",
     "output_type": "stream",
     "text": [
      "<function trial_function at 0x00000151A6B71940>\n",
      "[3*x**2 + y x + 3*y**2]\n",
      "[[6*x 1]\n",
      " [1 6*y]]\n"
     ]
    }
   ],
   "source": [
    "def trial_function(x,y):\n",
    "    return x**3 + y**3 + x*y\n",
    "nice_trial_function = NiceFunction(trial_function)\n",
    "print(nice_trial_function.f)\n",
    "print(nice_trial_function.gradient_f_sym)\n",
    "print(nice_trial_function.hessian_f_sym)\n",
    "#thay số vào hàm trong sympy\n"
   ]
  },
  {
   "cell_type": "code",
   "execution_count": 21,
   "metadata": {},
   "outputs": [],
   "source": [
    "class NewtonFindMin:\n",
    "    def __init__(self, niceFunction, x0, epsilon=1e-4, max_iterations=1000, alpha = 1,\n",
    "                 learning_rate = 1):\n",
    "        self.niceFunction = niceFunction\n",
    "        self.x0 = x0\n",
    "        self.epsilon = epsilon\n",
    "        self.max_iterations = max_iterations\n",
    "        self.alpha = alpha\n",
    "        self.learning_rate = learning_rate\n",
    "    def gradient_descent_backtracking_linesearch(self, contraction_factor=0.5):\n",
    "        x = self.x0[0]\n",
    "        y = self.x0[1]\n",
    "        for i in range(self.max_iterations):\n",
    "            current_gradient = self.niceFunction.gradient_f(x, y)\n",
    "            t = self.learning_rate\n",
    "            if np.linalg.norm(current_gradient) < self.epsilon:\n",
    "                break\n",
    "            for j in range(self.max_iterations):\n",
    "                next_x = x - t * current_gradient[0]\n",
    "                next_y = y - t* current_gradient[1]\n",
    "                while self.niceFunction.f(next_x, next_y) > self.niceFunction.f(x, y) - self.alpha *t* np.linalg.norm(current_gradient)**2 :\n",
    "                    t = t*contraction_factor\n",
    "                x = next_x\n",
    "                y = next_y\n",
    "        return x, y\n",
    "    def newton_backtracking_linesearch(self, contraction_factor=0.5):\n",
    "        x = self.x0[0]\n",
    "        y = self.x0[1]\n",
    "        for i in range(self.max_iterations):\n",
    "            current_gradient = self.niceFunction.gradient_f(x, y)\n",
    "            t = self.learning_rate\n",
    "            if np.linalg.norm(current_gradient) < self.epsilon:\n",
    "                break\n",
    "            current_hess = self.niceFunction.hessian_f(x, y)\n",
    "            v = np.linalg.solve(current_hess, current_gradient)\n",
    "            for j in range(self.max_iterations):\n",
    "                next_x = x - t * v[0]\n",
    "                next_y = y - t* v[1]\n",
    "                if self.niceFunction.f(next_x, next_y) > self.niceFunction.f(x, y) + self.alpha *t* current_gradient @ v :\n",
    "                    t = t*contraction_factor\n",
    "                else:\n",
    "                    x = next_x\n",
    "                    y = next_y\n",
    "                    break\n",
    "        return x, y \n",
    "        "
   ]
  },
  {
   "cell_type": "code",
   "execution_count": 22,
   "metadata": {},
   "outputs": [
    {
     "ename": "KeyboardInterrupt",
     "evalue": "",
     "output_type": "error",
     "traceback": [
      "\u001b[1;31m---------------------------------------------------------------------------\u001b[0m",
      "\u001b[1;31mKeyboardInterrupt\u001b[0m                         Traceback (most recent call last)",
      "Cell \u001b[1;32mIn[22], line 5\u001b[0m\n\u001b[0;32m      3\u001b[0m B \u001b[39m=\u001b[39m np\u001b[39m.\u001b[39marray([\u001b[39m-\u001b[39m\u001b[39m4\u001b[39m,\u001b[39m3\u001b[39m])\n\u001b[0;32m      4\u001b[0m newtonSolver \u001b[39m=\u001b[39m NewtonFindMin(nice_beale_function, A)\n\u001b[1;32m----> 5\u001b[0m sol1 \u001b[39m=\u001b[39m newtonSolver\u001b[39m.\u001b[39;49mgradient_descent_backtracking_linesearch()\n\u001b[0;32m      6\u001b[0m \u001b[39mprint\u001b[39m(sol1)\n\u001b[0;32m      7\u001b[0m beale_function(sol1[\u001b[39m0\u001b[39m], sol1[\u001b[39m1\u001b[39m])\n",
      "Cell \u001b[1;32mIn[21], line 21\u001b[0m, in \u001b[0;36mNewtonFindMin.gradient_descent_backtracking_linesearch\u001b[1;34m(self, contraction_factor)\u001b[0m\n\u001b[0;32m     19\u001b[0m next_x \u001b[39m=\u001b[39m x \u001b[39m-\u001b[39m t \u001b[39m*\u001b[39m current_gradient[\u001b[39m0\u001b[39m]\n\u001b[0;32m     20\u001b[0m next_y \u001b[39m=\u001b[39m y \u001b[39m-\u001b[39m t\u001b[39m*\u001b[39m current_gradient[\u001b[39m1\u001b[39m]\n\u001b[1;32m---> 21\u001b[0m \u001b[39mwhile\u001b[39;00m \u001b[39mself\u001b[39m\u001b[39m.\u001b[39mniceFunction\u001b[39m.\u001b[39mf(next_x, next_y) \u001b[39m>\u001b[39m \u001b[39mself\u001b[39m\u001b[39m.\u001b[39mniceFunction\u001b[39m.\u001b[39mf(x, y) \u001b[39m-\u001b[39m \u001b[39mself\u001b[39m\u001b[39m.\u001b[39malpha \u001b[39m*\u001b[39mt\u001b[39m*\u001b[39m np\u001b[39m.\u001b[39;49mlinalg\u001b[39m.\u001b[39;49mnorm(current_gradient)\u001b[39m*\u001b[39m\u001b[39m*\u001b[39m\u001b[39m2\u001b[39m :\n\u001b[0;32m     22\u001b[0m     t \u001b[39m=\u001b[39m t\u001b[39m*\u001b[39mcontraction_factor\n\u001b[0;32m     23\u001b[0m x \u001b[39m=\u001b[39m next_x\n",
      "File \u001b[1;32m<__array_function__ internals>:200\u001b[0m, in \u001b[0;36mnorm\u001b[1;34m(*args, **kwargs)\u001b[0m\n",
      "File \u001b[1;32m~\\AppData\\Roaming\\Python\\Python311\\site-packages\\numpy\\linalg\\linalg.py:2511\u001b[0m, in \u001b[0;36mnorm\u001b[1;34m(x, ord, axis, keepdims)\u001b[0m\n\u001b[0;32m   2509\u001b[0m     sqnorm \u001b[39m=\u001b[39m x_real\u001b[39m.\u001b[39mdot(x_real) \u001b[39m+\u001b[39m x_imag\u001b[39m.\u001b[39mdot(x_imag)\n\u001b[0;32m   2510\u001b[0m \u001b[39melse\u001b[39;00m:\n\u001b[1;32m-> 2511\u001b[0m     sqnorm \u001b[39m=\u001b[39m x\u001b[39m.\u001b[39mdot(x)\n\u001b[0;32m   2512\u001b[0m ret \u001b[39m=\u001b[39m sqrt(sqnorm)\n\u001b[0;32m   2513\u001b[0m \u001b[39mif\u001b[39;00m keepdims:\n",
      "\u001b[1;31mKeyboardInterrupt\u001b[0m: "
     ]
    }
   ],
   "source": [
    "nice_beale_function = NiceFunction(beale_function)\n",
    "A = np.array([0,0])\n",
    "B = np.array([-4,3])\n",
    "newtonSolver = NewtonFindMin(nice_beale_function, A)\n",
    "sol1 = newtonSolver.gradient_descent_backtracking_linesearch()\n",
    "print(sol1)\n",
    "beale_function(sol1[0], sol1[1])\n"
   ]
  },
  {
   "cell_type": "code",
   "execution_count": null,
   "metadata": {},
   "outputs": [
    {
     "name": "stderr",
     "output_type": "stream",
     "text": [
      "C:\\Users\\ThinkPad\\AppData\\Local\\Temp\\ipykernel_7040\\4023328981.py:7: RuntimeWarning: overflow encountered in scalar multiply\n",
      "  return (1.5 - x + x*y)**2 + (2.25 - x + x*y**2)**2 + (2.625 - x + x*y**3)**2\n"
     ]
    },
    {
     "name": "stdout",
     "output_type": "stream",
     "text": [
      "(-3.9942551183048636, 2.9766560586285777)\n"
     ]
    },
    {
     "data": {
      "text/plain": [
       "10637.581838766582"
      ]
     },
     "execution_count": 10,
     "metadata": {},
     "output_type": "execute_result"
    }
   ],
   "source": [
    "newtonSolverB = NewtonFindMin(nice_beale_function, B)\n",
    "sol2 = newtonSolverB.gradient_descent_backtracking_linesearch()\n",
    "print(sol2)\n",
    "beale_function(sol2[0], sol2[1])\n"
   ]
  },
  {
   "cell_type": "code",
   "execution_count": null,
   "metadata": {},
   "outputs": [
    {
     "ename": "LinAlgError",
     "evalue": "0-dimensional array given. Array must be at least two-dimensional",
     "output_type": "error",
     "traceback": [
      "\u001b[1;31m---------------------------------------------------------------------------\u001b[0m",
      "\u001b[1;31mLinAlgError\u001b[0m                               Traceback (most recent call last)",
      "Cell \u001b[1;32mIn[8], line 1\u001b[0m\n\u001b[1;32m----> 1\u001b[0m sol3 \u001b[39m=\u001b[39m newtonSolver\u001b[39m.\u001b[39;49mnewton_backtracking_linesearch()\n\u001b[0;32m      2\u001b[0m \u001b[39mprint\u001b[39m(sol3)\n",
      "Cell \u001b[1;32mIn[5], line 37\u001b[0m, in \u001b[0;36mNewtonFindMin.newton_backtracking_linesearch\u001b[1;34m(self, contraction_factor)\u001b[0m\n\u001b[0;32m     35\u001b[0m     \u001b[39mbreak\u001b[39;00m\n\u001b[0;32m     36\u001b[0m current_hess \u001b[39m=\u001b[39m \u001b[39mself\u001b[39m\u001b[39m.\u001b[39mniceFunction\u001b[39m.\u001b[39mhessian_f(x, y)\n\u001b[1;32m---> 37\u001b[0m v \u001b[39m=\u001b[39m np\u001b[39m.\u001b[39;49mlinalg\u001b[39m.\u001b[39;49msolve(current_hess, current_gradient)\n\u001b[0;32m     38\u001b[0m \u001b[39mfor\u001b[39;00m j \u001b[39min\u001b[39;00m \u001b[39mrange\u001b[39m(\u001b[39mself\u001b[39m\u001b[39m.\u001b[39mmax_iterations):\n\u001b[0;32m     39\u001b[0m     next_x \u001b[39m=\u001b[39m x \u001b[39m-\u001b[39m t \u001b[39m*\u001b[39m v[\u001b[39m0\u001b[39m]\n",
      "File \u001b[1;32m<__array_function__ internals>:200\u001b[0m, in \u001b[0;36msolve\u001b[1;34m(*args, **kwargs)\u001b[0m\n",
      "File \u001b[1;32m~\\AppData\\Roaming\\Python\\Python311\\site-packages\\numpy\\linalg\\linalg.py:372\u001b[0m, in \u001b[0;36msolve\u001b[1;34m(a, b)\u001b[0m\n\u001b[0;32m    308\u001b[0m \u001b[39m\u001b[39m\u001b[39m\"\"\"\u001b[39;00m\n\u001b[0;32m    309\u001b[0m \u001b[39mSolve a linear matrix equation, or system of linear scalar equations.\u001b[39;00m\n\u001b[0;32m    310\u001b[0m \n\u001b[1;32m   (...)\u001b[0m\n\u001b[0;32m    369\u001b[0m \n\u001b[0;32m    370\u001b[0m \u001b[39m\"\"\"\u001b[39;00m\n\u001b[0;32m    371\u001b[0m a, _ \u001b[39m=\u001b[39m _makearray(a)\n\u001b[1;32m--> 372\u001b[0m _assert_stacked_2d(a)\n\u001b[0;32m    373\u001b[0m _assert_stacked_square(a)\n\u001b[0;32m    374\u001b[0m b, wrap \u001b[39m=\u001b[39m _makearray(b)\n",
      "File \u001b[1;32m~\\AppData\\Roaming\\Python\\Python311\\site-packages\\numpy\\linalg\\linalg.py:183\u001b[0m, in \u001b[0;36m_assert_stacked_2d\u001b[1;34m(*arrays)\u001b[0m\n\u001b[0;32m    181\u001b[0m \u001b[39mfor\u001b[39;00m a \u001b[39min\u001b[39;00m arrays:\n\u001b[0;32m    182\u001b[0m     \u001b[39mif\u001b[39;00m a\u001b[39m.\u001b[39mndim \u001b[39m<\u001b[39m \u001b[39m2\u001b[39m:\n\u001b[1;32m--> 183\u001b[0m         \u001b[39mraise\u001b[39;00m LinAlgError(\u001b[39m'\u001b[39m\u001b[39m%d\u001b[39;00m\u001b[39m-dimensional array given. Array must be \u001b[39m\u001b[39m'\u001b[39m\n\u001b[0;32m    184\u001b[0m                 \u001b[39m'\u001b[39m\u001b[39mat least two-dimensional\u001b[39m\u001b[39m'\u001b[39m \u001b[39m%\u001b[39m a\u001b[39m.\u001b[39mndim)\n",
      "\u001b[1;31mLinAlgError\u001b[0m: 0-dimensional array given. Array must be at least two-dimensional"
     ]
    }
   ],
   "source": [
    "sol3 = newtonSolver.newton_backtracking_linesearch()\n",
    "print(sol3)"
   ]
  },
  {
   "cell_type": "code",
   "execution_count": null,
   "metadata": {},
   "outputs": [
    {
     "data": {
      "text/latex": [
       "$\\displaystyle 3$"
      ],
      "text/plain": [
       "3"
      ]
     },
     "execution_count": 14,
     "metadata": {},
     "output_type": "execute_result"
    }
   ],
   "source": [
    "val_x = sp.Symbol('x')\n",
    "y = sp.Symbol('y')\n",
    "f = val_x+y\n",
    "#thay số vào hàm trong sympy\n",
    "f.subs(val_x, 1).subs(y, 2)"
   ]
  }
 ],
 "metadata": {
  "kernelspec": {
   "display_name": "Python 3",
   "language": "python",
   "name": "python3"
  },
  "language_info": {
   "codemirror_mode": {
    "name": "ipython",
    "version": 3
   },
   "file_extension": ".py",
   "mimetype": "text/x-python",
   "name": "python",
   "nbconvert_exporter": "python",
   "pygments_lexer": "ipython3",
   "version": "3.11.3"
  },
  "orig_nbformat": 4
 },
 "nbformat": 4,
 "nbformat_minor": 2
}
