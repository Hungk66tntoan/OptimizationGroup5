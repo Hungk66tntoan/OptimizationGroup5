{
 "cells": [
  {
   "cell_type": "code",
   "execution_count": 13,
   "metadata": {},
   "outputs": [],
   "source": [
    "import numpy as np\n",
    "\n",
    "def f(x, y):\n",
    "    return 5*x**2 + y**2\n",
    "\n",
    "def gradient_f(x, y):\n",
    "    return np.array([10*x, 2*y])\n"
   ]
  },
  {
   "cell_type": "code",
   "execution_count": 14,
   "metadata": {},
   "outputs": [],
   "source": [
    "x0 = np.array([1, 1])"
   ]
  },
  {
   "cell_type": "code",
   "execution_count": 15,
   "metadata": {},
   "outputs": [],
   "source": [
    "class GradientDescentFindMin:\n",
    "    def __init__(self, f, gradient_f, x0, learning_rate=0.1, epsilon=1e-5, max_iterations=100):\n",
    "        self.f = f\n",
    "        self.gradient_f = gradient_f\n",
    "        self.x0 = x0\n",
    "        self.learning_rate = learning_rate\n",
    "        self.epsilon = epsilon\n",
    "        self.max_iterations = max_iterations\n",
    "    \n",
    "        self.y = f(x0[0], x0[1])\n",
    "        self.i = 0\n",
    "        \n",
    "    \n",
    "    def solve_fix_step_length(self):\n",
    "        x = self.x0[0]\n",
    "        y = self.x0[1]\n",
    "        for i in range(self.max_iterations):\n",
    "            current_gradient = self.gradient_f(x, y)\n",
    "            x -= self.learning_rate * current_gradient[0]\n",
    "            y -= self.learning_rate * current_gradient[1]\n",
    "            if np.linalg.norm(current_gradient) < self.epsilon:\n",
    "                break\n",
    "        return x, y\n",
    "    def solve_backtrack_step_length(self, contraction_factor=0.5, alpha=0.5):\n",
    "        x = self.x0[0]\n",
    "        y = self.x0[1]\n",
    "        for i in range(self.max_iterations):\n",
    "            current_gradient = self.gradient_f(x, y)\n",
    "            t = self.learning_rate\n",
    "            if np.linalg.norm(current_gradient) < self.epsilon:\n",
    "                break\n",
    "            for j in range(self.max_iterations):\n",
    "                next_x = x - self.learning_rate * current_gradient[0]\n",
    "                next_y = y - self.learning_rate * current_gradient[1]\n",
    "                if self.f(next_x, next_y) > self.f(x, y) - alpha *t* np.linalg.norm(current_gradient)**2 :\n",
    "                    t = t*contraction_factor\n",
    "                else:\n",
    "                    x = next_x\n",
    "                    y = next_y\n",
    "                    break\n",
    "            \n",
    "        return x, y\n",
    "    \n",
    "            "
   ]
  },
  {
   "cell_type": "code",
   "execution_count": 16,
   "metadata": {},
   "outputs": [
    {
     "name": "stdout",
     "output_type": "stream",
     "text": [
      "Thời gian chạy thuật toán fix step length :  0.000997304916381836\n",
      "(0.0, 3.741444191567113e-06)\n"
     ]
    }
   ],
   "source": [
    "gradientSolver = GradientDescentFindMin(f=f, gradient_f=gradient_f, x0=x0)\n",
    "#tính thời gian\n",
    "import time\n",
    "start = time.time()\n",
    "solve_fix_step_length = gradientSolver.solve_fix_step_length()\n",
    "end = time.time()\n",
    "print('Thời gian chạy thuật toán fix step length : ', end-start)\n",
    "print(solve_fix_step_length)    \n",
    "\n"
   ]
  },
  {
   "cell_type": "code",
   "execution_count": 17,
   "metadata": {},
   "outputs": [
    {
     "name": "stdout",
     "output_type": "stream",
     "text": [
      "Thời gian chạy thuật toán backtrack step length :  0.0029964447021484375\n",
      "(0.0, 4.676805239458891e-06)\n"
     ]
    }
   ],
   "source": [
    "gradientSolver = GradientDescentFindMin(f=f, gradient_f=gradient_f, x0=x0)\n",
    "start = time.time()\n",
    "solve_backtrack_step_length = gradientSolver.solve_backtrack_step_length()\n",
    "end = time.time()\n",
    "print('Thời gian chạy thuật toán backtrack step length : ', end-start)\n",
    "print(solve_backtrack_step_length)"
   ]
  },
  {
   "cell_type": "code",
   "execution_count": null,
   "metadata": {},
   "outputs": [],
   "source": []
  }
 ],
 "metadata": {
  "kernelspec": {
   "display_name": "Python 3",
   "language": "python",
   "name": "python3"
  },
  "language_info": {
   "codemirror_mode": {
    "name": "ipython",
    "version": 3
   },
   "file_extension": ".py",
   "mimetype": "text/x-python",
   "name": "python",
   "nbconvert_exporter": "python",
   "pygments_lexer": "ipython3",
   "version": "3.11.3"
  },
  "orig_nbformat": 4
 },
 "nbformat": 4,
 "nbformat_minor": 2
}
